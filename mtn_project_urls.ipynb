{
 "cells": [
  {
   "cell_type": "markdown",
   "id": "b0dfd84a",
   "metadata": {},
   "source": [
    "# Scraping URL's for Routes"
   ]
  },
  {
   "cell_type": "code",
   "execution_count": 1,
   "id": "6a3fd15e",
   "metadata": {},
   "outputs": [],
   "source": [
    "from bs4 import BeautifulSoup as bs\n",
    "from selenium import webdriver\n",
    "from selenium.webdriver.common.keys import Keys\n",
    "import re\n",
    "from re import match\n",
    "import time, os\n",
    "from datetime import datetime"
   ]
  },
  {
   "cell_type": "markdown",
   "id": "cd0f7827",
   "metadata": {},
   "source": [
    "### Setup Selenium's Webdriver"
   ]
  },
  {
   "cell_type": "code",
   "execution_count": 2,
   "id": "c142f483",
   "metadata": {},
   "outputs": [],
   "source": [
    "# setup webdriver\n",
    "chromedriver = \"/Applications/chromedriver\" \n",
    "os.environ[\"webdriver.chrome.driver\"] = chromedriver"
   ]
  },
  {
   "cell_type": "markdown",
   "id": "0d54f0e5",
   "metadata": {},
   "source": [
    "### Open Chrome using Webdriver\n",
    "Don't run this cell until ready to scrape"
   ]
  },
  {
   "cell_type": "code",
   "execution_count": 22,
   "id": "62dfd80d",
   "metadata": {},
   "outputs": [],
   "source": [
    "driver = webdriver.Chrome(chromedriver)"
   ]
  },
  {
   "cell_type": "markdown",
   "id": "5a9e3306",
   "metadata": {},
   "source": [
    "### Get links of 1st page results from search (ratings 5.0-5.9)\n",
    "**Search filters:**<br>\n",
    "* Kentucky\n",
    "* 1+ avg stars \n",
    "* 5.0 - 5.9 \n",
    "\n",
    "Breaking up the search into different difficulty levels allows me to grab all the results, otherwise the search is limited to return 1,000 routes.\n",
    "\n",
    "The URL for the first page has a different pattern than the following pages. "
   ]
  },
  {
   "cell_type": "code",
   "execution_count": 20,
   "id": "36f5e1b0",
   "metadata": {},
   "outputs": [],
   "source": [
    "# grab links from page 1 of results\n",
    "url = \"https://www.mountainproject.com/route-finder?type=rock&diffMinrock=1000&diffMinboulder=20000&diffMinaid=70000&diffMinice=30000&diffMinmixed=50000&diffMaxrock=2500&diffMaxboulder=20050&diffMaxaid=75260&diffMaxice=38500&diffMaxmixed=60000&is_trad_climb=1&is_sport_climb=1&is_top_rope=1&stars=1.8&pitches=0&selectedIds=105868674\""
   ]
  },
  {
   "cell_type": "code",
   "execution_count": 23,
   "id": "7a33105f",
   "metadata": {},
   "outputs": [],
   "source": [
    "# open the first page url\n",
    "driver.get(url)"
   ]
  },
  {
   "cell_type": "code",
   "execution_count": 24,
   "id": "dac6dcb4",
   "metadata": {},
   "outputs": [],
   "source": [
    "# Create the soup object\n",
    "soup = bs(driver.page_source, 'html.parser')"
   ]
  },
  {
   "cell_type": "code",
   "execution_count": 25,
   "id": "53abf645",
   "metadata": {},
   "outputs": [],
   "source": [
    "# Close the driver\n",
    "driver.close()"
   ]
  },
  {
   "cell_type": "code",
   "execution_count": 26,
   "id": "fb061816",
   "metadata": {},
   "outputs": [],
   "source": [
    "links = []\n",
    "\n",
    "# search soup object to find table with links\n",
    "table = soup.find('table', class_='table table-striped route-table hidden-sm-up')\n",
    "\n",
    "# get all hyperlinks in table\n",
    "for link in table.find_all('a'):\n",
    "    links.append(link.get('href'))"
   ]
  },
  {
   "cell_type": "code",
   "execution_count": 1,
   "id": "596a1279",
   "metadata": {},
   "outputs": [
    {
     "ename": "NameError",
     "evalue": "name 'links' is not defined",
     "output_type": "error",
     "traceback": [
      "\u001b[0;31m---------------------------------------------------------------------------\u001b[0m",
      "\u001b[0;31mNameError\u001b[0m                                 Traceback (most recent call last)",
      "\u001b[0;32m/var/folders/d4/4s9thvnx41xgd5z9q39vv23h0000gn/T/ipykernel_55592/2816001341.py\u001b[0m in \u001b[0;36m<module>\u001b[0;34m\u001b[0m\n\u001b[0;32m----> 1\u001b[0;31m \u001b[0mprint\u001b[0m\u001b[0;34m(\u001b[0m\u001b[0mlen\u001b[0m\u001b[0;34m(\u001b[0m\u001b[0mlinks\u001b[0m\u001b[0;34m)\u001b[0m\u001b[0;34m)\u001b[0m\u001b[0;34m\u001b[0m\u001b[0;34m\u001b[0m\u001b[0m\n\u001b[0m",
      "\u001b[0;31mNameError\u001b[0m: name 'links' is not defined"
     ]
    }
   ],
   "source": [
    "print(len(links))"
   ]
  },
  {
   "cell_type": "markdown",
   "id": "c43859e5",
   "metadata": {},
   "source": [
    "### Get links for rest of results from search (ratings 5.0-5.9)\n",
    "**Search filters:**<br>\n",
    "* Kentucky\n",
    "* 1+ avg stars \n",
    "* 5.0 - 5.9\n",
    "\n",
    "This will be the links for pages 2 - 16 in the 5.0-5.9 category"
   ]
  },
  {
   "cell_type": "code",
   "execution_count": 28,
   "id": "ca8a3cc0",
   "metadata": {},
   "outputs": [
    {
     "name": "stdout",
     "output_type": "stream",
     "text": [
      "3064\n"
     ]
    }
   ],
   "source": [
    "# open driver\n",
    "driver = webdriver.Chrome(chromedriver)\n",
    "\n",
    "# loop through each result page to grab html/links\n",
    "for i in range(2, 17):\n",
    "    url = \"https://www.mountainproject.com/route-finder?diffMaxaid=75260&diffMaxboulder=20050&diffMaxice=38500&diffMaxmixed=60000&diffMaxrock=2500&diffMinaid=70000&diffMinboulder=20000&diffMinice=30000&diffMinmixed=50000&diffMinrock=1000&is_sport_climb=1&is_top_rope=1&is_trad_climb=1&pitches=0&selectedIds=105868674&stars=1.8&type=rock&page=\" + str(i)\n",
    "    driver.get(url)\n",
    "    \n",
    "    # create soup object for html\n",
    "    soup = bs(driver.page_source, 'html.parser')\n",
    "    \n",
    "    # find the table with links in soup \n",
    "    table = soup.find('table', class_='table table-striped route-table hidden-sm-up')\n",
    "    \n",
    "    ## get all hyperlinks in table\n",
    "    for link in table.find_all('a'):\n",
    "        links.append(link.get('href'))\n",
    "    \n",
    "    time.sleep(2)\n",
    "        \n",
    "print(len(links))"
   ]
  },
  {
   "cell_type": "code",
   "execution_count": 29,
   "id": "74058ebd",
   "metadata": {},
   "outputs": [],
   "source": [
    "driver.close()"
   ]
  },
  {
   "cell_type": "markdown",
   "id": "53b1d7fa",
   "metadata": {},
   "source": [
    "#### Get links for routes 5.10a - 5.10d\n",
    "This range of difficulty is very common, so the range is narrower to capture all routes.<br><br>\n",
    "**Search:** 5.10a - 5.10d<br>\n",
    "**Pages:** 1 - 13"
   ]
  },
  {
   "cell_type": "code",
   "execution_count": 30,
   "id": "5b6cc790",
   "metadata": {},
   "outputs": [
    {
     "name": "stdout",
     "output_type": "stream",
     "text": [
      "5402\n"
     ]
    }
   ],
   "source": [
    "# open driver\n",
    "driver = webdriver.Chrome(chromedriver)\n",
    "\n",
    "#pg1 5.10a - 5.10d\n",
    "pg1 = \"https://www.mountainproject.com/route-finder?type=rock&diffMinrock=2600&diffMinboulder=20000&diffMinaid=70000&diffMinice=30000&diffMinmixed=50000&diffMaxrock=3500&diffMaxboulder=20050&diffMaxaid=75260&diffMaxice=38500&diffMaxmixed=60000&is_trad_climb=1&is_sport_climb=1&is_top_rope=1&stars=1.8&pitches=0&selectedIds=105868674\"\n",
    "driver.get(pg1)\n",
    "\n",
    "table = soup.find('table', \n",
    "                  class_='table table-striped route-table hidden-sm-up')\n",
    "\n",
    "for link in table.find_all('a'):\n",
    "    links.append(link.get('href'))\n",
    "\n",
    "\n",
    "# loop through each result page to grab html/links\n",
    "for i in range(2, 14):\n",
    "    url = \"https://www.mountainproject.com/route-finder?diffMaxaid=75260&diffMaxboulder=20050&diffMaxice=38500&diffMaxmixed=60000&diffMaxrock=3500&diffMinaid=70000&diffMinboulder=20000&diffMinice=30000&diffMinmixed=50000&diffMinrock=2600&is_sport_climb=1&is_top_rope=1&is_trad_climb=1&pitches=0&selectedIds=105868674&stars=1.8&type=rock&page=\" + str(i)\n",
    "    driver.get(url)\n",
    "    \n",
    "    # create soup object for html\n",
    "    soup = bs(driver.page_source, 'html.parser')\n",
    "    \n",
    "    # find the table with links in soup \n",
    "    table = soup.find('table', class_='table table-striped route-table hidden-sm-up')\n",
    "    \n",
    "    ## get all hyperlinks in table\n",
    "    for link in table.find_all('a'):\n",
    "        links.append(link.get('href'))\n",
    "    \n",
    "    time.sleep(2)\n",
    "        \n",
    "print(len(links))"
   ]
  },
  {
   "cell_type": "code",
   "execution_count": 31,
   "id": "d54b2924",
   "metadata": {},
   "outputs": [],
   "source": [
    "driver.close()"
   ]
  },
  {
   "cell_type": "markdown",
   "id": "bb11f0df",
   "metadata": {},
   "source": [
    "#### Get links for routes 5.11a - 5.11d\n",
    "This range of difficulty is very common, so the range is narrower to capture all routes.<br><br>\n",
    "**Search:** 5.11a - 5.11d<br>\n",
    "**Pages:** 1 - 13"
   ]
  },
  {
   "cell_type": "code",
   "execution_count": 32,
   "id": "84973ad2",
   "metadata": {},
   "outputs": [
    {
     "name": "stdout",
     "output_type": "stream",
     "text": [
      "7826\n"
     ]
    }
   ],
   "source": [
    "# open driver\n",
    "driver = webdriver.Chrome(chromedriver)\n",
    "\n",
    "#pg1 5.10a - 5.10d\n",
    "pg1 = \"https://www.mountainproject.com/route-finder?type=rock&diffMinrock=4600&diffMinboulder=20000&diffMinaid=70000&diffMinice=30000&diffMinmixed=50000&diffMaxrock=5500&diffMaxboulder=20050&diffMaxaid=75260&diffMaxice=38500&diffMaxmixed=60000&is_trad_climb=1&is_sport_climb=1&is_top_rope=1&stars=1.8&pitches=0&selectedIds=105868674\"\n",
    "driver.get(pg1)\n",
    "\n",
    "table = soup.find('table', \n",
    "                  class_='table table-striped route-table hidden-sm-up')\n",
    "\n",
    "for link in table.find_all('a'):\n",
    "    links.append(link.get('href'))\n",
    "\n",
    "\n",
    "# loop through each result page to grab html/links\n",
    "for i in range(2, 14):\n",
    "    url = \"https://www.mountainproject.com/route-finder?diffMaxaid=75260&diffMaxboulder=20050&diffMaxice=38500&diffMaxmixed=60000&diffMaxrock=5500&diffMinaid=70000&diffMinboulder=20000&diffMinice=30000&diffMinmixed=50000&diffMinrock=4600&is_sport_climb=1&is_top_rope=1&is_trad_climb=1&pitches=0&selectedIds=105868674&stars=1.8&type=rock&page=\" + str(i)\n",
    "    driver.get(url)\n",
    "    \n",
    "    # create soup object for html\n",
    "    soup = bs(driver.page_source, 'html.parser')\n",
    "    \n",
    "    # find the table with links in soup \n",
    "    table = soup.find('table', class_='table table-striped route-table hidden-sm-up')\n",
    "    \n",
    "    ## get all hyperlinks in table\n",
    "    for link in table.find_all('a'):\n",
    "        links.append(link.get('href'))\n",
    "    \n",
    "    time.sleep(2)\n",
    "driver.close()        \n",
    "print(len(links))"
   ]
  },
  {
   "cell_type": "markdown",
   "id": "53bba89c",
   "metadata": {},
   "source": [
    "#### Get links for routes 5.11a - 5.11d\n",
    "\n",
    "**Search:** 5.12a - 5.15d<br>\n",
    "**Pages:** 1 - 12"
   ]
  },
  {
   "cell_type": "code",
   "execution_count": 33,
   "id": "4f87c92f",
   "metadata": {},
   "outputs": [
    {
     "name": "stdout",
     "output_type": "stream",
     "text": [
      "10130\n"
     ]
    }
   ],
   "source": [
    "# open driver\n",
    "driver = webdriver.Chrome(chromedriver)\n",
    "\n",
    "#pg1\n",
    "pg1 = \"https://www.mountainproject.com/route-finder?type=rock&diffMinrock=6600&diffMinboulder=20000&diffMinaid=70000&diffMinice=30000&diffMinmixed=50000&diffMaxrock=12400&diffMaxboulder=20050&diffMaxaid=75260&diffMaxice=38500&diffMaxmixed=60000&is_trad_climb=1&is_sport_climb=1&is_top_rope=1&stars=1.8&pitches=0&selectedIds=105868674\"\n",
    "driver.get(pg1)\n",
    "\n",
    "table = soup.find('table', \n",
    "                  class_='table table-striped route-table hidden-sm-up')\n",
    "\n",
    "for link in table.find_all('a'):\n",
    "    links.append(link.get('href'))\n",
    "\n",
    "\n",
    "# loop through each result page to grab html/links\n",
    "for i in range(2, 13):\n",
    "    url = \"https://www.mountainproject.com/route-finder?diffMaxaid=75260&diffMaxboulder=20050&diffMaxice=38500&diffMaxmixed=60000&diffMaxrock=12400&diffMinaid=70000&diffMinboulder=20000&diffMinice=30000&diffMinmixed=50000&diffMinrock=6600&is_sport_climb=1&is_top_rope=1&is_trad_climb=1&pitches=0&selectedIds=105868674&stars=1.8&type=rock&page=\" + str(i)\n",
    "    driver.get(url)\n",
    "    \n",
    "    # create soup object for html\n",
    "    soup = bs(driver.page_source, 'html.parser')\n",
    "    \n",
    "    # find the table with links in soup \n",
    "    table = soup.find('table', class_='table table-striped route-table hidden-sm-up')\n",
    "    \n",
    "    ## get all hyperlinks in table\n",
    "    for link in table.find_all('a'):\n",
    "        links.append(link.get('href'))\n",
    "    \n",
    "    time.sleep(2)\n",
    "driver.close()        \n",
    "print(len(links))"
   ]
  },
  {
   "cell_type": "markdown",
   "id": "75881292",
   "metadata": {},
   "source": [
    "### Filter Links List\n",
    "We only want the links that are for the individual routes."
   ]
  },
  {
   "cell_type": "code",
   "execution_count": 35,
   "id": "d04e7b0d",
   "metadata": {},
   "outputs": [
    {
     "name": "stdout",
     "output_type": "stream",
     "text": [
      "2539\n"
     ]
    }
   ],
   "source": [
    "# filter links to include only the route links\n",
    "p = re.compile(r'https://www.mountainproject.com/route.*')\n",
    "routes_links = [i for i in links if p.match(i)]\n",
    "\n",
    "print(len(routes_links))"
   ]
  },
  {
   "cell_type": "code",
   "execution_count": 37,
   "id": "412fad75",
   "metadata": {},
   "outputs": [],
   "source": [
    "# save routes_links to be used in another notebook\n",
    "import pickle\n",
    "\n",
    "pickle.dump(routes_links, open(\"routes_links.pkl\", \"wb\" ))"
   ]
  }
 ],
 "metadata": {
  "kernelspec": {
   "display_name": "Python 3 (ipykernel)",
   "language": "python",
   "name": "python3"
  },
  "language_info": {
   "codemirror_mode": {
    "name": "ipython",
    "version": 3
   },
   "file_extension": ".py",
   "mimetype": "text/x-python",
   "name": "python",
   "nbconvert_exporter": "python",
   "pygments_lexer": "ipython3",
   "version": "3.8.8"
  }
 },
 "nbformat": 4,
 "nbformat_minor": 5
}
