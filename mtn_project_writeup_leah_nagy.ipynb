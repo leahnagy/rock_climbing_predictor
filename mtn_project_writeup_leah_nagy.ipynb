{
 "cells": [
  {
   "cell_type": "markdown",
   "id": "a5675de4",
   "metadata": {},
   "source": [
    "# Linear Regression Project Write-up\n",
    "### Predicting Average User-Ratings of Rock-Climbing Routes"
   ]
  },
  {
   "cell_type": "markdown",
   "id": "5aa6a058",
   "metadata": {},
   "source": [
    "### Abstract\n",
    "The goal of this project was to use Linear Regression models to predict the average user-rating for rock-climbing routes in Kentucky. I collected data from the Mountain Project website about each route using web scraping. After collecting the data, I ran through multiple types of regression models before arriving at a final model. "
   ]
  },
  {
   "cell_type": "markdown",
   "id": "58c6a67c",
   "metadata": {},
   "source": [
    "### Design\n",
    "Kentucky has some of the best rock climbing in the world and is considered the rock climbing mecca of the East coast. Rock climbing guides are a vital part of the community there. With over 3,000 routes to choose from, a rock climbing guide company wants to better understand their what makes routes more desirable than others to provide the optimal experience for their clients. "
   ]
  },
  {
   "cell_type": "markdown",
   "id": "b08db677",
   "metadata": {},
   "source": [
    "### Data\n",
    "After some Exploratory Data Analysis and Feature Engineering, the dataset contains 1,582 routes. I collected 17 features on each route and the final model includes a total of 12 features. The data was collected from Mountain Project's website using Selenium and BeautifulSoup. "
   ]
  },
  {
   "cell_type": "markdown",
   "id": "1254cc3d",
   "metadata": {},
   "source": [
    "### Algorithms\n",
    "##### Feature Engineering\n",
    "<ol>\n",
    "    <li> The route's share-date was changed to the number of years  on the app for comparison</li>\n",
    "    <li> The number of ratings, comments, photos and ticks were added together as a popularity metric because of multicollinearity issues</li>\n",
    "    <li> Adding dummy variables for the categorical features</li>\n",
    "    <li> Added interaction variables:\n",
    "        <ul>\n",
    "            <li> Difficulty Rating X Route Length</li>\n",
    "            <li> Popularity / Route Age</li>\n",
    "        </ul></li>\n",
    "</ol>\n",
    "\n",
    "##### Models\n",
    "Simple Linear, Polynomial, Ridge & LASSO Regression were used. The final model used was a simple Linear Regression model with features removed according to the LASSO Regression results. \n",
    "\n",
    "##### Model Evaluation and Selection \n",
    "The entire dataset was split into a 60/20/20 - Training/Validation/Testing. I used 5-fold cross validation as I tested various models and scored them based on the validation set. I then combined the training and validation datasets for a final 80/20 (training/testing) split. The testing data was only used on the final model by using the same random state throughout. \n",
    "\n",
    "The metric I used to score my models was Mean Absolute Error (MAE), because it would be in the same unit as my target. Without a need to further penalize outliers, MAE keeps the model more interpretable to stakeholders. While I focused on the MAE, I also worked to reduce multicollinearity, which also increased MAE. In the future I would like to try more interaction terms to improve the model's performance even more."
   ]
  },
  {
   "cell_type": "markdown",
   "id": "de26d151",
   "metadata": {},
   "source": [
    "### Final Simple Linear Regression Model Scores:\n",
    "##### Training Data\n",
    "<ul>\n",
    "    <li> Accuracy: 0.566 </li>\n",
    "</ul> \n",
    "\n",
    "##### Testing Data\n",
    "<ul>\n",
    "    <li> Accuracy: 0.572 </li>\n",
    "    <li> MAE: 0.374 </li>\n",
    "</ul> \n"
   ]
  },
  {
   "cell_type": "markdown",
   "id": "454c3e12",
   "metadata": {},
   "source": [
    "### Tools\n",
    "<ul>\n",
    "    <li> Selenium, BeautifulSoup & Requests for web scraping\n",
    "    <li> Numpy and Pandas for data manipulation </li>\n",
    "    <li> Scikit-learn for modeling </li>\n",
    "    <li> Matplotlib and Seaborn for plotting </li>"
   ]
  },
  {
   "cell_type": "markdown",
   "id": "15abaf62",
   "metadata": {},
   "source": [
    "### Communication \n",
    "All of my slides, visuals, and code notebooks will be posted on my blog."
   ]
  }
 ],
 "metadata": {
  "kernelspec": {
   "display_name": "Python 3 (ipykernel)",
   "language": "python",
   "name": "python3"
  },
  "language_info": {
   "codemirror_mode": {
    "name": "ipython",
    "version": 3
   },
   "file_extension": ".py",
   "mimetype": "text/x-python",
   "name": "python",
   "nbconvert_exporter": "python",
   "pygments_lexer": "ipython3",
   "version": "3.8.8"
  }
 },
 "nbformat": 4,
 "nbformat_minor": 5
}
